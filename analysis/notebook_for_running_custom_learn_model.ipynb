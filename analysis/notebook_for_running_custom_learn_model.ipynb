{
 "cells": [
  {
   "cell_type": "code",
   "execution_count": 49,
   "id": "8304467c",
   "metadata": {
    "ExecuteTime": {
     "end_time": "2023-05-28T16:35:36.353036Z",
     "start_time": "2023-05-28T16:35:36.350768Z"
    }
   },
   "outputs": [],
   "source": [
    "import importlib"
   ]
  },
  {
   "cell_type": "code",
   "execution_count": 50,
   "id": "4a02e97f",
   "metadata": {
    "ExecuteTime": {
     "end_time": "2023-05-28T16:35:37.255029Z",
     "start_time": "2023-05-28T16:35:37.250047Z"
    }
   },
   "outputs": [],
   "source": [
    "import custom_learn_model"
   ]
  },
  {
   "cell_type": "code",
   "execution_count": 51,
   "id": "0c40a14d",
   "metadata": {
    "ExecuteTime": {
     "end_time": "2023-05-28T16:35:38.863989Z",
     "start_time": "2023-05-28T16:35:38.855414Z"
    }
   },
   "outputs": [
    {
     "data": {
      "text/plain": [
       "<module 'custom_learn_model' from '/home/robin/github/forked/ProtoPool/analysis/custom_learn_model.py'>"
      ]
     },
     "execution_count": 51,
     "metadata": {},
     "output_type": "execute_result"
    }
   ],
   "source": [
    "importlib.reload(custom_learn_model)"
   ]
  },
  {
   "cell_type": "code",
   "execution_count": null,
   "id": "6961a3e0",
   "metadata": {
    "ExecuteTime": {
     "start_time": "2023-05-28T16:35:42.541Z"
    },
    "scrolled": false
   },
   "outputs": [
    {
     "name": "stdout",
     "output_type": "stream",
     "text": [
      "\u001b[0;1;31mdevice=device(type='cuda')\u001b[0m\n",
      "\n",
      "Freezing all but last layer\n",
      "\n",
      "Epoch 1/50\n"
     ]
    }
   ],
   "source": [
    "custom_learn_model.custom_learn_model()"
   ]
  },
  {
   "cell_type": "code",
   "execution_count": null,
   "id": "25c00ef1",
   "metadata": {},
   "outputs": [],
   "source": []
  },
  {
   "cell_type": "code",
   "execution_count": null,
   "id": "69b31743",
   "metadata": {},
   "outputs": [],
   "source": []
  }
 ],
 "metadata": {
  "kernelspec": {
   "display_name": "proto_pool",
   "language": "python",
   "name": "proto_pool"
  },
  "language_info": {
   "codemirror_mode": {
    "name": "ipython",
    "version": 3
   },
   "file_extension": ".py",
   "mimetype": "text/x-python",
   "name": "python",
   "nbconvert_exporter": "python",
   "pygments_lexer": "ipython3",
   "version": "3.9.6"
  }
 },
 "nbformat": 4,
 "nbformat_minor": 5
}
